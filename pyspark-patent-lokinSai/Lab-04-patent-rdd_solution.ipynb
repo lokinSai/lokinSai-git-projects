{
 "cells": [
  {
   "cell_type": "markdown",
   "metadata": {},
   "source": [
    "# CSCI 4253 / 5253 - Lab #4 - Patent Problem with Spark RDD\n",
    "<div>\n",
    " <h2> CSCI 4283 / 5253 \n",
    "  <IMG SRC=\"https://www.colorado.edu/cs/profiles/express/themes/cuspirit/logo.png\" WIDTH=50 ALIGN=\"right\"/> </h2>\n",
    "</div>"
   ]
  },
  {
   "cell_type": "markdown",
   "metadata": {
    "slideshow": {
     "slide_type": "-"
    }
   },
   "source": [
    "This [Spark cheatsheet](https://s3.amazonaws.com/assets.datacamp.com/blog_assets/PySpark_SQL_Cheat_Sheet_Python.pdf) is useful"
   ]
  },
  {
   "cell_type": "code",
   "execution_count": 1,
   "metadata": {},
   "outputs": [],
   "source": [
    "from pyspark import SparkContext, SparkConf\n",
    "import numpy as np\n",
    "import operator"
   ]
  },
  {
   "cell_type": "code",
   "execution_count": 2,
   "metadata": {},
   "outputs": [],
   "source": [
    "conf=SparkConf().setAppName(\"Lab4-rddd\").setMaster(\"local[*]\")\n",
    "sc = SparkContext(conf=conf)"
   ]
  },
  {
   "cell_type": "markdown",
   "metadata": {},
   "source": [
    "Using PySpark and RDD's on the https://coding.csel.io machines is very slow -- most of the code is executed in Python and this is much less efficient than the java-based code using the PySpark dataframes. Be patient and trying using `.cache()` to cache the output of joins. You may want to start with a reduced set of data before running the full task.\n",
    "\n",
    "To that end, we've included code to just extract the last 200,000 lines of each file below using the Python \"slice\" notation. Using that subset of the data your \"new patent\" table should look like:\n",
    "\n",
    "![Top partial 10 RDD self-state citations](top-subsample-rdd.png)\n",
    "\n",
    "When you're ready to run the whole thing, just include all the data and run it again (...and wait...)."
   ]
  },
  {
   "cell_type": "markdown",
   "metadata": {},
   "source": [
    "These two RDD's are called \"rawCitations\" and \"rawPatents\" because you probably want to process them futher (e.g. convert them to integer types, etc). If you haven't used Python \"byte\" types before, google it. You can convert a byte variable `x` into e.g. a UTF8 string using `x.decode('uft-8')`."
   ]
  },
  {
   "cell_type": "markdown",
   "metadata": {},
   "source": [
    "#### Extracting 800,000 lines from Citations and Patetns data"
   ]
  },
  {
   "cell_type": "code",
   "execution_count": 3,
   "metadata": {},
   "outputs": [],
   "source": [
    "import gzip\n",
    "with gzip.open('cite75_99.txt.gz', 'r') as f:\n",
    "    rddCitations = sc.parallelize( f.readlines()[-800000:] )"
   ]
  },
  {
   "cell_type": "code",
   "execution_count": 4,
   "metadata": {},
   "outputs": [],
   "source": [
    "with gzip.open('apat63_99.txt.gz', 'r') as f:\n",
    "    rddPatents = sc.parallelize( f.readlines()[-800000:] )"
   ]
  },
  {
   "cell_type": "markdown",
   "metadata": {},
   "source": [
    "#### Converitng data in bytes format to string format "
   ]
  },
  {
   "cell_type": "code",
   "execution_count": 5,
   "metadata": {},
   "outputs": [],
   "source": [
    "# decoding from byte order to string\n",
    "rddCitations1 = rddCitations.map(lambda x: x.decode('utf-8').rstrip('\\n'))"
   ]
  },
  {
   "cell_type": "code",
   "execution_count": 6,
   "metadata": {},
   "outputs": [],
   "source": [
    "# decoding from byte order to string\n",
    "rddPatents1 = rddPatents.map(lambda x: x.decode('utf-8').rstrip('\\n'))"
   ]
  },
  {
   "cell_type": "markdown",
   "metadata": {},
   "source": [
    "#### Subsetting the patent data on columns \"PATENT\" and \"POSTATE\" <br/> where \"PATENT\" is the key, table \"**patents_sub**\"\n",
    "#### This table is used to join with Citation data"
   ]
  },
  {
   "cell_type": "code",
   "execution_count": 7,
   "metadata": {},
   "outputs": [],
   "source": [
    "#subset patent data on two columns\n",
    "patents_sub = rddPatents1.map(lambda x: x.split(\",\"))\\\n",
    "           .map(lambda x: (x[0],x[5]))"
   ]
  },
  {
   "cell_type": "code",
   "execution_count": 8,
   "metadata": {},
   "outputs": [
    {
     "data": {
      "text/plain": [
       "[('5200108', '\"\"'), ('5200109', '\"\"'), ('5200110', '\"\"'), ('5200111', '\"\"')]"
      ]
     },
     "execution_count": 8,
     "metadata": {},
     "output_type": "execute_result"
    }
   ],
   "source": [
    "patents_sub.take(4)"
   ]
  },
  {
   "cell_type": "markdown",
   "metadata": {},
   "source": [
    "#### Creating table \"**citing_as_key**\" to make citing as key and value pair"
   ]
  },
  {
   "cell_type": "code",
   "execution_count": 9,
   "metadata": {},
   "outputs": [],
   "source": [
    "citing_as_key = rddCitations1.map(lambda x: x.split(\",\"))\\\n",
    "                             .map(lambda x: (x[0],x[0]))\\\n",
    "                             .distinct()"
   ]
  },
  {
   "cell_type": "code",
   "execution_count": 10,
   "metadata": {},
   "outputs": [
    {
     "data": {
      "text/plain": [
       "[('5935430', '5935430'),\n",
       " ('5935432', '5935432'),\n",
       " ('5935438', '5935438'),\n",
       " ('5935451', '5935451')]"
      ]
     },
     "execution_count": 10,
     "metadata": {},
     "output_type": "execute_result"
    }
   ],
   "source": [
    "citing_as_key.take(4)"
   ]
  },
  {
   "cell_type": "markdown",
   "metadata": {},
   "source": [
    "#### Creating table \"**cited_as_key**\" to make cited as key and citing as value pair"
   ]
  },
  {
   "cell_type": "code",
   "execution_count": 11,
   "metadata": {},
   "outputs": [],
   "source": [
    "cited_as_key = rddCitations1.map(lambda x: x.split(\",\"))\\\n",
    "                         .map(lambda x: (x[1],x[0]))"
   ]
  },
  {
   "cell_type": "markdown",
   "metadata": {},
   "source": [
    "In Cited_as_key, first element is the key \"cited\" and value is \"citing\""
   ]
  },
  {
   "cell_type": "code",
   "execution_count": 12,
   "metadata": {},
   "outputs": [
    {
     "data": {
      "text/plain": [
       "[('5453769', '5935430'),\n",
       " ('5500071', '5935430'),\n",
       " ('5567868', '5935430'),\n",
       " ('5571410', '5935430')]"
      ]
     },
     "execution_count": 12,
     "metadata": {},
     "output_type": "execute_result"
    }
   ],
   "source": [
    "cited_as_key.take(4)"
   ]
  },
  {
   "cell_type": "markdown",
   "metadata": {},
   "source": [
    "#### Joined \"**cited_as_key**\" and \"**patents_sub**\" based on \"**cited**\" as key <br/> resulting in **Table1** "
   ]
  },
  {
   "cell_type": "code",
   "execution_count": 13,
   "metadata": {},
   "outputs": [],
   "source": [
    "# joined based on Cited and patent \n",
    "table1 = cited_as_key.join(patents_sub)\\\n",
    "                     .map(lambda x: (x[1][0],(x[0],x[1][1])))"
   ]
  },
  {
   "cell_type": "code",
   "execution_count": 14,
   "metadata": {},
   "outputs": [
    {
     "data": {
      "text/plain": [
       "[('5935430', ('5453769', '\"CA\"')),\n",
       " ('5988786', ('5453769', '\"CA\"')),\n",
       " ('5997708', ('5453769', '\"CA\"')),\n",
       " ('6003977', ('5453769', '\"CA\"'))]"
      ]
     },
     "execution_count": 14,
     "metadata": {},
     "output_type": "execute_result"
    }
   ],
   "source": [
    "table1.take(4)"
   ]
  },
  {
   "cell_type": "markdown",
   "metadata": {},
   "source": [
    "#### Joined \"**citing_as_key**\" and \"**patents_sub**\" based on \"**citing**\" as key <br/> resulting in **Table2** "
   ]
  },
  {
   "cell_type": "code",
   "execution_count": 15,
   "metadata": {},
   "outputs": [],
   "source": [
    "table2 = citing_as_key.join(patents_sub)"
   ]
  },
  {
   "cell_type": "code",
   "execution_count": 16,
   "metadata": {},
   "outputs": [],
   "source": [
    "table2 = table2.map(lambda x: (x[0],x[1][1]))"
   ]
  },
  {
   "cell_type": "code",
   "execution_count": 17,
   "metadata": {},
   "outputs": [
    {
     "data": {
      "text/plain": [
       "[('5935437', '\"TX\"'),\n",
       " ('5935444', '\"LA\"'),\n",
       " ('5935445', '\"\"'),\n",
       " ('5935459', '\"\"')]"
      ]
     },
     "execution_count": 17,
     "metadata": {},
     "output_type": "execute_result"
    }
   ],
   "source": [
    "table2.take(4)"
   ]
  },
  {
   "cell_type": "markdown",
   "metadata": {},
   "source": [
    "#### Join table1 and table 2 to get intermediate table for citing, citing_state, cited and cited_state"
   ]
  },
  {
   "cell_type": "code",
   "execution_count": 18,
   "metadata": {},
   "outputs": [],
   "source": [
    "table3 = table2.join(table1)"
   ]
  },
  {
   "cell_type": "code",
   "execution_count": 19,
   "metadata": {},
   "outputs": [
    {
     "data": {
      "text/plain": [
       "[('5935444', ('\"LA\"', ('5567318', '\"IL\"'))),\n",
       " ('5935467', ('\"NY\"', ('5353292', '\"\"'))),\n",
       " ('5935467', ('\"NY\"', ('5325229', '\"OK\"'))),\n",
       " ('5935467', ('\"NY\"', ('5363391', '\"CA\"')))]"
      ]
     },
     "execution_count": 19,
     "metadata": {},
     "output_type": "execute_result"
    }
   ],
   "source": [
    "table3.take(4)"
   ]
  },
  {
   "cell_type": "code",
   "execution_count": 20,
   "metadata": {},
   "outputs": [],
   "source": [
    "table4 = table3.map(lambda x:((x[0],x[1][0]),(x[1][1][0],x[1][1][1])))\\\n",
    "               .keyBy(lambda x:x[0][0])"
   ]
  },
  {
   "cell_type": "code",
   "execution_count": 21,
   "metadata": {},
   "outputs": [
    {
     "data": {
      "text/plain": [
       "[('5935444', (('5935444', '\"LA\"'), ('5567318', '\"IL\"'))),\n",
       " ('5935467', (('5935467', '\"NY\"'), ('5353292', '\"\"'))),\n",
       " ('5935467', (('5935467', '\"NY\"'), ('5325229', '\"OK\"'))),\n",
       " ('5935467', (('5935467', '\"NY\"'), ('5363391', '\"CA\"')))]"
      ]
     },
     "execution_count": 21,
     "metadata": {},
     "output_type": "execute_result"
    }
   ],
   "source": [
    "table4.take(4)"
   ]
  },
  {
   "cell_type": "markdown",
   "metadata": {},
   "source": [
    "#### Count the number of same state citations using groupby opertation and stored into table5"
   ]
  },
  {
   "cell_type": "code",
   "execution_count": 22,
   "metadata": {},
   "outputs": [],
   "source": [
    "table5 = table4.filter(lambda x: x[1][0][1]!='\"\"')\\\n",
    "      .filter(lambda x: x[1][0][1]==x[1][1][1])\\\n",
    "      .groupByKey()\\\n",
    "      .map(lambda x:(x[0],[len(list(x[1]))]))"
   ]
  },
  {
   "cell_type": "markdown",
   "metadata": {},
   "source": [
    "#### Same-state citation count for each citing "
   ]
  },
  {
   "cell_type": "code",
   "execution_count": 23,
   "metadata": {},
   "outputs": [
    {
     "data": {
      "text/plain": [
       "[('5935536', [1]), ('5935600', [6]), ('5935640', [1]), ('5935662', [1])]"
      ]
     },
     "execution_count": 23,
     "metadata": {},
     "output_type": "execute_result"
    }
   ],
   "source": [
    "table5.take(4)"
   ]
  },
  {
   "cell_type": "code",
   "execution_count": 24,
   "metadata": {},
   "outputs": [],
   "source": [
    "new_patent_table = rddPatents1.map(lambda x:x.split(\",\"))\\\n",
    "                              .map(lambda x: (x[0],x[1:]))"
   ]
  },
  {
   "cell_type": "markdown",
   "metadata": {},
   "source": [
    "#### Join the count of same-state citations to the patent-orginal table "
   ]
  },
  {
   "cell_type": "code",
   "execution_count": 25,
   "metadata": {},
   "outputs": [],
   "source": [
    "new_patent_table1 = new_patent_table.join(table5)\\\n",
    "                        .map(lambda x:(x[0],x[1][0] + x[1][1]))"
   ]
  },
  {
   "cell_type": "code",
   "execution_count": 26,
   "metadata": {},
   "outputs": [],
   "source": [
    "new_patent_table1_sorted = new_patent_table1.map(lambda x:(x[0],x[1][0:22],x[1][22]))\\\n",
    "                                            .sortBy(lambda x:x[2],ascending=False)"
   ]
  },
  {
   "cell_type": "markdown",
   "metadata": {},
   "source": [
    "#### Sorted the new table by count in descending order"
   ]
  },
  {
   "cell_type": "code",
   "execution_count": 27,
   "metadata": {},
   "outputs": [],
   "source": [
    "sorted_patent_table = new_patent_table1_sorted.map(lambda x:(x[0],x[1]+[x[2]]))"
   ]
  },
  {
   "cell_type": "markdown",
   "metadata": {},
   "source": [
    "#### Printing the top 10 same-state counts resulting from 800,000 lines of citations and patent "
   ]
  },
  {
   "cell_type": "code",
   "execution_count": 28,
   "metadata": {},
   "outputs": [
    {
     "name": "stdout",
     "output_type": "stream",
     "text": [
      "('5959466', ['1999', '14515', '1997', '\"US\"', '\"CA\"', '5310', '2', '', '326', '4', '46', '159', '0', '1', '', '0.6186', '', '4.8868', '0.0455', '0.044', '', '', 94])\n",
      "('6008204', ['1999', '14606', '1998', '\"US\"', '\"CA\"', '749584', '2', '', '514', '3', '31', '121', '0', '1', '', '0.7415', '', '5', '0.0085', '0.0083', '', '', 80])\n",
      "('5952345', ['1999', '14501', '1997', '\"US\"', '\"CA\"', '749584', '2', '', '514', '3', '31', '118', '0', '1', '', '0.7442', '', '5.1102', '0', '0', '', '', 78])\n",
      "('5999972', ['1999', '14585', '1996', '\"US\"', '\"CA\"', '551495', '2', '', '709', '2', '22', '352', '0', '1', '', '0.8714', '', '4.0398', '0.0117', '0.0114', '', '', 77])\n",
      "('5987245', ['1999', '14564', '1996', '\"US\"', '\"CA\"', '551495', '2', '', '709', '2', '22', '341', '0', '1', '', '0.8737', '', '4.0587', '0.0121', '0.0117', '', '', 76])\n",
      "('5998655', ['1999', '14585', '1998', '\"US\"', '\"CA\"', '', '1', '', '560', '1', '14', '114', '0', '1', '', '0.7387', '', '5.1667', '', '', '', '', 76])\n",
      "('5958954', ['1999', '14515', '1997', '\"US\"', '\"CA\"', '749584', '2', '', '514', '3', '31', '116', '0', '1', '', '0.7397', '', '5.181', '0', '0', '', '', 76])\n",
      "('5951547', ['1999', '14501', '1997', '\"US\"', '\"CA\"', '733846', '2', '', '606', '3', '32', '242', '0', '1', '', '0.7382', '', '8.3471', '0', '0', '', '', 73])\n",
      "('5980517', ['1999', '14557', '1998', '\"US\"', '\"CA\"', '733846', '2', '', '606', '3', '32', '241', '0', '1', '', '0.7394', '', '8.3776', '0', '0', '', '', 73])\n",
      "('5998471', ['1999', '14585', '1998', '\"US\"', '\"CA\"', '749584', '2', '', '514', '3', '31', '103', '0', '1', '', '0.7151', '', '5.5825', '0', '0', '', '', 65])\n"
     ]
    }
   ],
   "source": [
    "for i in sorted_patent_table.take(10):\n",
    "    print(i)"
   ]
  },
  {
   "cell_type": "code",
   "execution_count": null,
   "metadata": {},
   "outputs": [],
   "source": []
  }
 ],
 "metadata": {
  "kernelspec": {
   "display_name": "Python 3",
   "language": "python",
   "name": "python3"
  },
  "language_info": {
   "codemirror_mode": {
    "name": "ipython",
    "version": 3
   },
   "file_extension": ".py",
   "mimetype": "text/x-python",
   "name": "python",
   "nbconvert_exporter": "python",
   "pygments_lexer": "ipython3",
   "version": "3.6.7"
  }
 },
 "nbformat": 4,
 "nbformat_minor": 2
}
